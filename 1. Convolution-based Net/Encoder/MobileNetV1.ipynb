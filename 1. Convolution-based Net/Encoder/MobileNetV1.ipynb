{
 "cells": [
  {
   "attachments": {},
   "cell_type": "markdown",
   "metadata": {},
   "source": [
    "**MobileNets: Efficient Convolutional Neural Networks for Mobile Vision Applications**    \n",
    "*Andrew G. Howard, Menglong Zhu, Bo Chen, Dmitry Kalenichenko, Weijun Wang, Tobias Weyand, Marco Andreetto, Hartwig Adam*   \n",
    "[[paper](https://arxiv.org/abs/1704.04861)]   \n",
    "CVPR 2017   "
   ]
  },
  {
   "cell_type": "code",
   "execution_count": 2,
   "metadata": {},
   "outputs": [
    {
     "name": "stderr",
     "output_type": "stream",
     "text": [
      "c:\\Users\\Suhyun\\.conda\\envs\\Vision\\lib\\site-packages\\tqdm\\auto.py:22: TqdmWarning: IProgress not found. Please update jupyter and ipywidgets. See https://ipywidgets.readthedocs.io/en/stable/user_install.html\n",
      "  from .autonotebook import tqdm as notebook_tqdm\n"
     ]
    }
   ],
   "source": [
    "import torch\n",
    "import torch.nn as nn\n"
   ]
  },
  {
   "cell_type": "code",
   "execution_count": 3,
   "metadata": {},
   "outputs": [],
   "source": [
    "class DepthwiseSeparableConv(nn.Module):\n",
    "    def __init__(self, in_dim, hidden_dim, out_dim, stride=1) -> None:\n",
    "        super(DepthwiseSeparableConv, self).__init__()\n",
    "\n",
    "        self.depthwise = nn.Conv2d(in_channels=in_dim, out_channels=hidden_dim, kernel_size=3, stride=stride, padding=stride, groups=in_dim, bias=False)\n",
    "        self.norm1     = nn.BatchNorm2d(hidden_dim)\n",
    "        \n",
    "        self.pointwise = nn.Conv2d(in_channels=hidden_dim, out_channels=out_dim, kernel_size=1, stride=1, bias=False)\n",
    "        self.norm2     = nn.BatchNorm2d(out_dim)\n",
    "\n",
    "        self.act       = nn.ReLU() # nn.SiLU()\n",
    "\n",
    "    def forward(self, x):\n",
    "\n",
    "        d = self.depthwise(x)\n",
    "        d = self.norm1(d)\n",
    "        d = self.act(d)\n",
    "\n",
    "        p = self.pointwise(d)\n",
    "        p = self.norm2(p)\n",
    "        p = self.act(p)\n",
    "\n",
    "        return p "
   ]
  },
  {
   "cell_type": "code",
   "execution_count": null,
   "metadata": {},
   "outputs": [],
   "source": [
    "class MobileNetv1(nn.Module):\n",
    "    def __init__(self, init_dim=32, num_classes=1000, alpha=1) -> None:\n",
    "        super(MobileNetv1, self).__init__()\n",
    "        \n",
    "        self.dim = int(alpha * init_dim)\n",
    "\n",
    "        # 224x224x3 -> 112x112x32\n",
    "        self.init_conv = nn.Conv2d(3, self.dim, kerenl_size=3, stride=2, padding=2)\n",
    "        self.init_norm = nn.BatchNorm2d(self.dim)\n",
    "        self.init_act  = nn.ReLU()\n",
    "\n",
    "        # 112x112x32 -> 56x56x64\n",
    "        self.dim *= 2 # 64\n",
    "        self.dwise_conv1 = nn.Sequential(\n",
    "            DepthwiseSeparableConv(in_dim=self.dim//2, hidden_dim=self.dim//32, out_dim=self.dim  , stride=1),\n",
    "            DepthwiseSeparableConv(in_dim=self.dim,    hidden_dim=self.dim, out_dim=self.dim*2, stride=2)\n",
    "        )\n",
    "\n",
    "        # 56x56x64 -> 28x28x128\n",
    "        self.dim *= 2 # 128\n",
    "        self.dwise_conv2 = nn.Sequential(\n",
    "            DepthwiseSeparableConv(in_dim=self.dim, hidden_dim=self.dim, out_dim=self.dim,  stride=1),\n",
    "            DepthwiseSeparableConv(in_dim=self.dim, hidden_dim=self.dim, out_dim=self.dim*2, stride=2)\n",
    "        )\n",
    "\n",
    "        # 28x28x128 -> 14x14x256\n",
    "        self.dim *= 2 # 256\n",
    "        self.dwise_conv3 = nn.Sequential(\n",
    "            DepthwiseSeparableConv(in_dim=self.dim, hidden_dim=self.dim, out_dim=self.dim, stride=1),\n",
    "            DepthwiseSeparableConv(in_dim=self.dim, hidden_dim=self.dim, out_dim=self.dim*2, stride=2)\n",
    "        )\n",
    "\n",
    "        # 14x14x256 -> 7x7x1024\n",
    "        self.dim *= 2 # 512\n",
    "        self.dwise_conv4 = nn.Sequential(\n",
    "            *([DepthwiseSeparableConv(in_dim=self.dim, hidden_dim=self.dim, out_dim=self.dim, stride=1) for _ in range(5)]\n",
    "            +[DepthwiseSeparableConv(in_dim=self.dim, hidden_dim=self.dim, out_dim=self.dim*2, stride=2)])\n",
    "        )\n",
    "\n",
    "        # 7x7x1024 -> 7x7x1024\n",
    "        self.dim *= 2 # 1024\n",
    "        self.dwise_conv5 = DepthwiseSeparableConv(in_dim=self.dim, hidden_dim=self.dim, out_dim=self.dim, stride=2)\n",
    "\n",
    "        self.pool = nn.AdaptiveAvgPool2d(output_size=1)\n",
    "\n",
    "        # 1x1x1024 -> 1x1x1000 (# of classes)\n",
    "        self.fc = nn.Conv2d(self.dim, num_classes, kernel_size=1, stride=1)\n",
    "\n",
    "    def forward(self, x):\n",
    "\n",
    "        x = self.init_conv(x)\n",
    "        x = self.init_norm(x)\n",
    "        x = self.init_act(x)\n",
    "\n",
    "        h = self.dwise_conv1(x)\n",
    "        h = self.dwise_conv2(h)\n",
    "        h = self.dwise_conv3(h)\n",
    "        h = self.dwise_conv4(h)\n",
    "        h = self.dwise_conv5(h)\n",
    "\n",
    "        p = self.pool(h)\n",
    "\n",
    "        out = self.fc(p)\n",
    "        \n",
    "        return out.view(out.size(0), -1)"
   ]
  }
 ],
 "metadata": {
  "kernelspec": {
   "display_name": "Vision",
   "language": "python",
   "name": "python3"
  },
  "language_info": {
   "codemirror_mode": {
    "name": "ipython",
    "version": 3
   },
   "file_extension": ".py",
   "mimetype": "text/x-python",
   "name": "python",
   "nbconvert_exporter": "python",
   "pygments_lexer": "ipython3",
   "version": "3.10.9"
  },
  "orig_nbformat": 4,
  "vscode": {
   "interpreter": {
    "hash": "dc79a4e7eea126714ace4d17b6ce673f58109b4923be81845501021bf3643639"
   }
  }
 },
 "nbformat": 4,
 "nbformat_minor": 2
}
