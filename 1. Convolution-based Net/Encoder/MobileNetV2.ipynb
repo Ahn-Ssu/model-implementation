{
 "cells": [
  {
   "attachments": {},
   "cell_type": "markdown",
   "metadata": {},
   "source": [
    "**MobileNetV2: Inverted Residuals and Linear Bottlenecks**    \n",
    "*Mark Sandler, Andrew Howard, Menglong Zhu, Andrey Zhmoginov, Liang-Chieh Chen*   \n",
    "[[paper](https://arxiv.org/abs/1801.04381)]   \n",
    "CVPR 2018   "
   ]
  },
  {
   "cell_type": "code",
   "execution_count": 2,
   "metadata": {},
   "outputs": [
    {
     "name": "stderr",
     "output_type": "stream",
     "text": [
      "c:\\Users\\Suhyun\\.conda\\envs\\Vision\\lib\\site-packages\\tqdm\\auto.py:22: TqdmWarning: IProgress not found. Please update jupyter and ipywidgets. See https://ipywidgets.readthedocs.io/en/stable/user_install.html\n",
      "  from .autonotebook import tqdm as notebook_tqdm\n"
     ]
    }
   ],
   "source": [
    "import torch\n",
    "import torch.nn as nn"
   ]
  },
  {
   "cell_type": "code",
   "execution_count": 3,
   "metadata": {},
   "outputs": [],
   "source": [
    "class InvertedResidualConv(nn.Module):\n",
    "    def __init__(self, in_dim, out_dim, expand_ratio, stride=1) -> None:\n",
    "        super(InvertedResidualConv, self).__init__()\n",
    "\n",
    "        self.use_residual = in_dim == out_dim and stride == 1\n",
    "        hidden_dim = int(in_dim * expand_ratio)\n",
    "\n",
    "        self.expand = nn.Sequential(\n",
    "            nn.Conv2d(in_channels=in_dim, out_channels= hidden_dim, kernel_size=1, stride=1, bias=False),\n",
    "            nn.BatchNorm2d(hidden_dim),\n",
    "            nn.ReLU6()\n",
    "        )\n",
    "\n",
    "        self.dwise = nn.Sequential(\n",
    "            nn.Conv2d(in_channels=hidden_dim, out_channels=hidden_dim, kernel_size=3, stride=stride, padding=stride, groups=hidden_dim, bias=False),\n",
    "            nn.BatchNorm2d(hidden_dim),\n",
    "            nn.ReLU6()\n",
    "        )\n",
    "\n",
    "        self.project = nn.Sequential(\n",
    "            nn.Conv2d(in_channels=hidden_dim, out_channels=out_dim, kernel_size=1, padding=1, bias=False),\n",
    "            nn.BatchNrom2d(out_dim)\n",
    "        )\n",
    "\n",
    "    def forward(self, x):\n",
    "\n",
    "        h = self.expand(x)\n",
    "        h = self.dwise(h)\n",
    "        h = self.project(h)\n",
    "\n",
    "        if self.use_residual:\n",
    "            h += x \n",
    "\n",
    "        return h"
   ]
  },
  {
   "cell_type": "code",
   "execution_count": null,
   "metadata": {},
   "outputs": [],
   "source": [
    "class MobileNetV2(nn.Module):\n",
    "    def __init__(self, init_dim=32, num_classes=1000) -> None:\n",
    "        super(MobileNetV2, self).__init__()\n",
    "\n",
    "        self.dim = init_dim\n",
    "\n",
    "        self.init_conv = nn.Sequential(\n",
    "            nn.Conv2d(in_channels=3, out_channels=self.dim, kernel_size=3, stride=2, padding=2, bias=False),\n",
    "            nn.BatchNorm2d(self.dim),\n",
    "            nn.ReLU6()\n",
    "        )\n",
    "\n",
    "        # c 32 -> 16, t=1, n=1, s=1\n",
    "        self.bottleneck1 = InvertedResidualConv(in_dim=self.dim, out_dim=self.dim//2, expand_ratio=1, stride=1)\n",
    "        \n",
    "        # c 16 -> 24, t=6, n=2, s=2\n",
    "        self.bottleneck2 = nn.Sequential(\n",
    "            *([InvertedResidualConv(in_dim=self.dim//2, out_dim=self.dim*3//4, expand_ratio=6, stride=2)]\n",
    "            + [InvertedResidualConv(in_dim=self.dim*3//4, out_dim=self.dim*3//4, expand_ratio=6, stride=1) for _ in range(1)])\n",
    "        )\n",
    "\n",
    "        # c 24 -> 32, t=6, n=3, s=2\n",
    "        self.bottleneck3 = nn.Sequential(\n",
    "            *([InvertedResidualConv(in_dim=self.dim*3//4, out_dim=self.dim, expand_ratio=6, stride=2)]\n",
    "            + [InvertedResidualConv(in_dim=self.dim,      out_dim=self.dim, expand_ratio=6, stride=1) for _ in range(2)])\n",
    "        )\n",
    "\n",
    "        # c 32 -> 64, t=6, n=4, s=2\n",
    "        self.bottleneck4 = nn.Sequential(\n",
    "            *([InvertedResidualConv(in_dim=self.dim,   out_dim=self.dim*2, expand_ratio=6, stride=2)]\n",
    "            + [InvertedResidualConv(in_dim=self.dim*2, out_dim=self.dim*2, expand_ratio=6, stride=1) for _ in range(3)])\n",
    "        )\n",
    "\n",
    "        # c 64 -> 96, t=6, n=3, s=1\n",
    "        self.bottleneck5 = nn.Sequential(\n",
    "            *([InvertedResidualConv(in_dim=self.dim*2, out_dim=self.dim*3, expand_ratio=6, stride=1)]\n",
    "            + [InvertedResidualConv(in_dim=self.dim*3, out_dim=self.dim*3, expand_ratio=6, stride=1) for _ in range(2)])\n",
    "        )\n",
    "\n",
    "        # c 96 -> 160, t=6, n=3, s=2\n",
    "        self.bottleneck6 = nn.Sequential(\n",
    "            *([InvertedResidualConv(in_dim=self.dim*3, out_dim=self.dim*5, expand_ratio=6, stride=2)]\n",
    "            + [InvertedResidualConv(in_dim=self.dim*5, out_dim=self.dim*5, expand_ratio=6, stride=1) for _ in range(1)])\n",
    "        )\n",
    "\n",
    "        # c 160 -> 320, t=6, n=1, s=1\n",
    "        self.bottleneck7 = InvertedResidualConv(in_dim=self.dim*5, out_dim=self.dim*10, expand_ratio=6, stride=1)\n",
    "\n",
    "        self.last_conv = nn.Sequential(\n",
    "            nn.Conv2d(in_channels=self.dim*10, out_channels=self.dim*40, kernel_size=1, stride=1, bias=False),\n",
    "            nn.BatchNorm2d(self.dim*40),\n",
    "            nn.ReLU6()\n",
    "        )\n",
    "\n",
    "        self.pool = nn.AdaptiveAvgPool2d(1)\n",
    "\n",
    "        self.fc = nn.Conv2d(in_channels=self.dim*40, out_channels=num_classes, kernel_size=1, stride=1)\n",
    "\n",
    "    def forward(self, x):\n",
    "\n",
    "        h = self.init_conv(x)\n",
    "\n",
    "        h = self.bottleneck1(h)\n",
    "        h = self.bottleneck2(h)\n",
    "        h = self.bottleneck3(h)\n",
    "        h = self.bottleneck4(h)\n",
    "        h = self.bottleneck5(h)\n",
    "        h = self.bottleneck6(h)\n",
    "        h = self.bottleneck7(h)\n",
    "\n",
    "        p = self.pool(h)\n",
    "\n",
    "        out = self.fc(p)\n",
    "\n",
    "        return out\n",
    "\n"
   ]
  }
 ],
 "metadata": {
  "kernelspec": {
   "display_name": "Vision",
   "language": "python",
   "name": "python3"
  },
  "language_info": {
   "codemirror_mode": {
    "name": "ipython",
    "version": 3
   },
   "file_extension": ".py",
   "mimetype": "text/x-python",
   "name": "python",
   "nbconvert_exporter": "python",
   "pygments_lexer": "ipython3",
   "version": "3.10.9"
  },
  "orig_nbformat": 4,
  "vscode": {
   "interpreter": {
    "hash": "dc79a4e7eea126714ace4d17b6ce673f58109b4923be81845501021bf3643639"
   }
  }
 },
 "nbformat": 4,
 "nbformat_minor": 2
}
