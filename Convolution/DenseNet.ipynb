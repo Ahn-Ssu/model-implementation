{
 "cells": [
  {
   "attachments": {},
   "cell_type": "markdown",
   "metadata": {},
   "source": [
    "**DenseNet: Densely Connected Convolutional Networks**   \n",
    "*Gao Huang, Zhuang Liu, Laurens van der Maaten, Kilian Q. Weinberger*  \n",
    "[[paper](https://arxiv.org/abs/1608.06993)]    \n",
    "CVPR 2017\n",
    "\n"
   ]
  },
  {
   "cell_type": "code",
   "execution_count": 1,
   "metadata": {},
   "outputs": [],
   "source": [
    "# for ImageNet \n",
    "import torch\n",
    "import torch.nn as nn\n",
    "import torch.nn.functional as F\n",
    "\n",
    "import numpy as np"
   ]
  },
  {
   "cell_type": "code",
   "execution_count": null,
   "metadata": {},
   "outputs": [],
   "source": [
    "class ConvLayer(nn.Module):\n",
    "    def __init__(self, in_dim, out_dim,\n",
    "                    convKernel_size=3, convStride=2) -> None:\n",
    "        super(ConvLayer, self).__init__()\n",
    "\n",
    "        self.norm = nn.BatchNorm2d(in_dim)\n",
    "        self.act  = nn.ReLU()\n",
    "        self.conv = nn.Conv2d(in_dim, out_dim, kernel_size=convKernel_size, stride=convStride, padding=convKernel_size//2) # padding=convKenrel_size//2 --> keep size of the input image\n",
    "\n",
    "    def forward(self, inputs):\n",
    "        # H() = BN - ReLU - Conv\n",
    "        h = self.norm(inputs)\n",
    "        h = self.act(h)\n",
    "        h = self.conv(h)\n",
    "\n",
    "        return h"
   ]
  },
  {
   "cell_type": "code",
   "execution_count": 2,
   "metadata": {},
   "outputs": [],
   "source": [
    "class InitialConv(nn.Module):\n",
    "    def __init__(self, in_dim, out_dim,\n",
    "                    convKernel_size=7, convStride=2, poolingKernel_size=3, poolingStride=2) -> None:\n",
    "        super(InitialConv, self).__init__()\n",
    "\n",
    "        self.composite = ConvLayer(in_dim, out_dim, convKernel_size, convStride)\n",
    "        self.pool = nn.MaxPool2d(poolingKernel_size, stride=poolingStride)\n",
    "\n",
    "    def forward(self, inputs):\n",
    "\n",
    "        h = self.composite(inputs)\n",
    "        h = self.pool\n",
    "\n",
    "        return h"
   ]
  },
  {
   "cell_type": "code",
   "execution_count": null,
   "metadata": {},
   "outputs": [],
   "source": [
    "class DenseBlock(nn.Module):\n",
    "    def __init__(self, in_dim, out_dim, num_conv=6,\n",
    "                    convKernel_size=3, convStride=2, poolingKernel_size=3, poolingStride=2) -> None:\n",
    "        super(DenseBlock, self).__init__()\n",
    "\n",
    "        self.num_conv = num_conv\n",
    "        self.consecutive = nn.ModuleList([])\n",
    "\n",
    "        for idx in range(self.num_conv):\n",
    "            # 1x1 convolution\n",
    "            self.consecutive.append(ConvLayer(in_dim*idx, out_dim, convKernel_size=1, convStride=1))\n",
    "            # 3x3 convlotuon\n",
    "            self.consecutive.append(ConvLayer(out_dim, out_dim, convKernel_size=3, convStride=2))\n",
    "\n",
    "    def forward(self, inputs):\n",
    "\n",
    "        prev = inputs\n",
    "        inter = inputs\n",
    "\n",
    "        ## 1x1\n",
    "        inter = self.consecutive[0](inter)\n",
    "        ## 3x3\n",
    "        inter = self.consecutive[1](inter)\n",
    "        prev = torch.concat((prev, inter), dim=1)\n",
    "\n",
    "        for idx in range(2, self.num_conv):\n",
    "            "
   ]
  },
  {
   "cell_type": "code",
   "execution_count": null,
   "metadata": {},
   "outputs": [],
   "source": []
  }
 ],
 "metadata": {
  "kernelspec": {
   "display_name": "base",
   "language": "python",
   "name": "python3"
  },
  "language_info": {
   "codemirror_mode": {
    "name": "ipython",
    "version": 3
   },
   "file_extension": ".py",
   "mimetype": "text/x-python",
   "name": "python",
   "nbconvert_exporter": "python",
   "pygments_lexer": "ipython3",
   "version": "3.9.13"
  },
  "orig_nbformat": 4,
  "vscode": {
   "interpreter": {
    "hash": "a8034245bc4d3529f9d9ffcd1c0ba194efca112f5dbacb6a250b6873c232e499"
   }
  }
 },
 "nbformat": 4,
 "nbformat_minor": 2
}
