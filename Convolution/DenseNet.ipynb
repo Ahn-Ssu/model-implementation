{
 "cells": [
  {
   "attachments": {},
   "cell_type": "markdown",
   "metadata": {},
   "source": [
    "**DenseNet: Densely Connected Convolutional Networks**   \n",
    "*Gao Huang, Zhuang Liu, Laurens van der Maaten, Kilian Q. Weinberger*  \n",
    "[[paper](https://arxiv.org/abs/1608.06993)]    \n",
    "CVPR 2017\n",
    "\n"
   ]
  },
  {
   "cell_type": "code",
   "execution_count": 3,
   "metadata": {},
   "outputs": [],
   "source": [
    "# for ImageNet \n",
    "import torch\n",
    "import torch.nn as nn\n",
    "import torch.nn.functional as F\n",
    "\n",
    "import numpy as np"
   ]
  },
  {
   "cell_type": "code",
   "execution_count": 4,
   "metadata": {},
   "outputs": [],
   "source": [
    "class ConvLayer(nn.Module):\n",
    "    def __init__(self, in_dim, out_dim,\n",
    "                    convKernel_size=3, convStride=2) -> None:\n",
    "        super(ConvLayer, self).__init__()\n",
    "\n",
    "        self.norm = nn.BatchNorm2d(in_dim)\n",
    "        self.act  = nn.ReLU()\n",
    "        self.conv = nn.Conv2d(in_dim, out_dim, kernel_size=convKernel_size, stride=convStride, padding=convKernel_size//2) # padding=convKenrel_size//2 --> keep size of the input image\n",
    "\n",
    "    def forward(self, inputs):\n",
    "        # H() = BN - ReLU - Conv\n",
    "        h = self.norm(inputs)\n",
    "        h = self.act(h)\n",
    "        h = self.conv(h)\n",
    "\n",
    "        return h"
   ]
  },
  {
   "cell_type": "code",
   "execution_count": 5,
   "metadata": {},
   "outputs": [],
   "source": [
    "class InitialConv(nn.Module):\n",
    "    def __init__(self, in_dim, out_dim,\n",
    "                    convKernel_size=7, convStride=2, poolingKernel_size=3, poolingStride=2) -> None:\n",
    "        super(InitialConv, self).__init__()\n",
    "\n",
    "        self.composite = ConvLayer(in_dim, out_dim, convKernel_size, convStride)\n",
    "        self.pool = nn.MaxPool2d(poolingKernel_size, stride=poolingStride)\n",
    "\n",
    "    def forward(self, inputs):\n",
    "\n",
    "        h = self.composite(inputs)\n",
    "        h = self.pool\n",
    "\n",
    "        return h"
   ]
  },
  {
   "cell_type": "code",
   "execution_count": 6,
   "metadata": {},
   "outputs": [],
   "source": [
    "class DenseBlock(nn.Module):\n",
    "    def __init__(self, in_dim, out_dim, num_conv=6,\n",
    "                    convKernel_size=3, convStride=2) -> None:\n",
    "        super(DenseBlock, self).__init__()\n",
    "\n",
    "        self.num_conv = num_conv\n",
    "        self.consecutive = nn.ModuleList([])\n",
    "\n",
    "        for idx in range(self.num_conv):\n",
    "            # 1x1 convolution\n",
    "            self.consecutive.append(ConvLayer(in_dim+(out_dim*(idx+1)), out_dim, convKernel_size=1, convStride=1))\n",
    "            # 3x3 convlotuon\n",
    "            self.consecutive.append(ConvLayer(out_dim, out_dim, convKernel_size=convKernel_size, convStride=convStride))\n",
    "\n",
    "    def forward(self, inputs):\n",
    "\n",
    "        prev = inputs\n",
    "\n",
    "        for idx in range(self.num_conv):\n",
    "            inter = self.consecutive[idx*2](prev)      # 1x1 conv\n",
    "            inter = self.consecutive[idx*2 +1](inter)   # 3x3 conv\n",
    "            prev  = torch.concat([prev, inter], dim=1)\n",
    "\n",
    "        return inter #the final layer output\n",
    "            "
   ]
  },
  {
   "cell_type": "code",
   "execution_count": 7,
   "metadata": {},
   "outputs": [],
   "source": [
    "class TransitionLayer(nn.Module):\n",
    "    def __init__(self, in_dim, out_dim, \n",
    "                    poolingKernel_size=2, poolingStride=2) -> None:\n",
    "        super(TransitionLayer, self).__init__()\n",
    "\n",
    "        self.conv = ConvLayer(in_dim, out_dim, convKernel_size=1, convStride=1)\n",
    "        self.pool = nn.AvgPool2d(poolingKernel_size, poolingStride) # used average pool (not global)\n",
    "\n",
    "    def forward(self, dense_out):\n",
    "\n",
    "        h = self.conv(dense_out)\n",
    "        h = self.pool(h)\n",
    "\n",
    "        return h"
   ]
  },
  {
   "cell_type": "code",
   "execution_count": null,
   "metadata": {},
   "outputs": [],
   "source": [
    "class DenseNet(nn.Module):\n",
    "    def __init__(self, in_dim, out_dim, growthRate=32) -> None:\n",
    "        super(DenseNet, self).__init__()\n",
    "\n",
    "        self.growthRate = growthRate\n",
    "\n",
    "        self.init_conv = InitialConv(in_dim, growthRate, convKernel_size=7, convStride=2, poolingKernel_size=3, poolingStride=2)\n",
    "\n",
    "        self.dense1      = DenseBlock(self.growth*2, self.growthRate*2, num_conv=6, convKernel_size=3, convStride=2)\n",
    "        self.transition1 = TransitionLayer(self.growthRate*2, self.growthRate*4)\n",
    "\n",
    "        self.dense2      = DenseBlock(self.growth*4, self.growthRate*4, num_conv=12, convKernel_size=3, convStride=2)\n",
    "        self.transition2 = TransitionLayer(self.growthRate*4, self.growthRate*8)\n",
    "\n",
    "        self.dense3      = DenseBlock(self.growth*8, self.growthRate*8, num_conv=12, convKernel_size=3, convStride=2)\n",
    "        self.transition3 = TransitionLayer(self.growthRate*8, self.growthRate*16)\n",
    "\n",
    "        self.dense4      = DenseBlock(self.growth*16, self.growthRate*16, num_conv=12, convKernel_size=3, convStride=2)\n",
    "        self.pool        = nn.AdaptiveAvgPool2d(1)\n",
    "        self.classifier  = nn.Sequential(\n",
    "                        nn.Linear(self.growthRate*16, self.growthRate*16),\n",
    "                        nn.Dropout(),\n",
    "                        nn.ReLU(),\n",
    "                        nn.Linear(self.growthRate*16, out_dim)\n",
    "                    )\n",
    "\n",
    "    def forward(self, inputs):\n",
    "\n",
    "        h0  = self.init_conv(inputs)\n",
    "\n",
    "        h1  = self.dense1(h0)\n",
    "        h1  = self.transition1(h1)\n",
    "\n",
    "        h2  = self.dense2(h1)\n",
    "        h2  = self.transition2(h2)\n",
    "\n",
    "        h3  = self.dense3(h2)\n",
    "        h3  = self.transition3(h3)\n",
    "\n",
    "        h4  = self.dense4(h3)\n",
    "\n",
    "        hg  = self.pool(h4)\n",
    "\n",
    "        out = self.classifier(hg)\n",
    "\n",
    "        return out"
   ]
  }
 ],
 "metadata": {
  "kernelspec": {
   "display_name": "base",
   "language": "python",
   "name": "python3"
  },
  "language_info": {
   "codemirror_mode": {
    "name": "ipython",
    "version": 3
   },
   "file_extension": ".py",
   "mimetype": "text/x-python",
   "name": "python",
   "nbconvert_exporter": "python",
   "pygments_lexer": "ipython3",
   "version": "3.9.13"
  },
  "orig_nbformat": 4,
  "vscode": {
   "interpreter": {
    "hash": "a8034245bc4d3529f9d9ffcd1c0ba194efca112f5dbacb6a250b6873c232e499"
   }
  }
 },
 "nbformat": 4,
 "nbformat_minor": 2
}
