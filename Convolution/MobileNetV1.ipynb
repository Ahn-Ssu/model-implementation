{
 "cells": [
  {
   "attachments": {},
   "cell_type": "markdown",
   "metadata": {},
   "source": [
    "**MobileNets: Efficient Convolutional Neural Networks for Mobile Vision Applications**    \n",
    "*Andrew G. Howard, Menglong Zhu, Bo Chen, Dmitry Kalenichenko, Weijun Wang, Tobias Weyand, Marco Andreetto, Hartwig Adam*   \n",
    "[[paper](https://arxiv.org/abs/1704.04861)]   \n",
    "CVPR 2017   "
   ]
  },
  {
   "cell_type": "code",
   "execution_count": 2,
   "metadata": {},
   "outputs": [
    {
     "name": "stderr",
     "output_type": "stream",
     "text": [
      "c:\\Users\\Suhyun\\.conda\\envs\\Vision\\lib\\site-packages\\tqdm\\auto.py:22: TqdmWarning: IProgress not found. Please update jupyter and ipywidgets. See https://ipywidgets.readthedocs.io/en/stable/user_install.html\n",
      "  from .autonotebook import tqdm as notebook_tqdm\n"
     ]
    }
   ],
   "source": [
    "import torch\n",
    "import torch.nn as nn\n"
   ]
  },
  {
   "cell_type": "code",
   "execution_count": 3,
   "metadata": {},
   "outputs": [],
   "source": [
    "class DepthwiseSeparableConv(nn.Module):\n",
    "    def __init__(self, in_dim, hidden_dim, out_dim, stride=1) -> None:\n",
    "        super(DepthwiseSeparableConv, self).__init__()\n",
    "\n",
    "        self.depthwise = nn.Conv2d(in_channels=in_dim, out_channels=hidden_dim, kernel_size=3, stride=stride, padding=stride, groups=in_dim, bias=False)\n",
    "        self.norm1     = nn.BatchNorm2d(hidden_dim)\n",
    "        \n",
    "        self.pointwise = nn.Conv2d(in_channels=hidden_dim, out_channels=out_dim, kernel_size=1, stride=1, bias=False)\n",
    "        self.norm2     = nn.BatchNorm2d(out_dim)\n",
    "\n",
    "        self.act       = nn.ReLU() # nn.SiLU()\n",
    "\n",
    "    def forward(self, x):\n",
    "\n",
    "        d = self.depthwise(x)\n",
    "        d = self.norm1(d)\n",
    "        d = self.act(d)\n",
    "\n",
    "        p = self.pointwise(d)\n",
    "        p = self.norm2(p)\n",
    "        p = self.act(p)\n",
    "\n",
    "        return p "
   ]
  },
  {
   "cell_type": "code",
   "execution_count": null,
   "metadata": {},
   "outputs": [],
   "source": [
    "class MobileNetv1(nn.Module)"
   ]
  }
 ],
 "metadata": {
  "kernelspec": {
   "display_name": "Vision",
   "language": "python",
   "name": "python3"
  },
  "language_info": {
   "codemirror_mode": {
    "name": "ipython",
    "version": 3
   },
   "file_extension": ".py",
   "mimetype": "text/x-python",
   "name": "python",
   "nbconvert_exporter": "python",
   "pygments_lexer": "ipython3",
   "version": "3.10.9"
  },
  "orig_nbformat": 4,
  "vscode": {
   "interpreter": {
    "hash": "dc79a4e7eea126714ace4d17b6ce673f58109b4923be81845501021bf3643639"
   }
  }
 },
 "nbformat": 4,
 "nbformat_minor": 2
}
