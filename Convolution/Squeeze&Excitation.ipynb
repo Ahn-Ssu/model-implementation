{
 "cells": [
  {
   "attachments": {},
   "cell_type": "markdown",
   "metadata": {},
   "source": [
    "**MobileNetV2: Inverted Residuals and Linear Bottlenecks**    \n",
    "*Mark Sandler, Andrew Howard, Menglong Zhu, Andrey Zhmoginov, Liang-Chieh Chen*   \n",
    "[[paper](https://arxiv.org/abs/1709.01507)]   \n",
    "CVPR 2018   "
   ]
  },
  {
   "cell_type": "code",
   "execution_count": null,
   "metadata": {},
   "outputs": [],
   "source": []
  }
 ],
 "metadata": {
  "language_info": {
   "name": "python"
  },
  "orig_nbformat": 4
 },
 "nbformat": 4,
 "nbformat_minor": 2
}
