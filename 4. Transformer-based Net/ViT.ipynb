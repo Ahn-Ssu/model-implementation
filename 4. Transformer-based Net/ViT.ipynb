{
 "cells": [
  {
   "attachments": {},
   "cell_type": "markdown",
   "metadata": {},
   "source": [
    "info\n"
   ]
  },
  {
   "cell_type": "code",
   "execution_count": 2,
   "metadata": {},
   "outputs": [
    {
     "name": "stderr",
     "output_type": "stream",
     "text": [
      "c:\\Users\\Suhyun\\.conda\\envs\\Vision\\lib\\site-packages\\tqdm\\auto.py:22: TqdmWarning: IProgress not found. Please update jupyter and ipywidgets. See https://ipywidgets.readthedocs.io/en/stable/user_install.html\n",
      "  from .autonotebook import tqdm as notebook_tqdm\n"
     ]
    }
   ],
   "source": [
    "import torch\n",
    "import torch.nn as nn\n"
   ]
  },
  {
   "cell_type": "code",
   "execution_count": 3,
   "metadata": {},
   "outputs": [],
   "source": [
    "class PatchEmbedding(nn.Module):\n",
    "    def __init__(self, image_size, num_patch, in_dim, latent_dim) -> None:\n",
    "        super().__init__()\n",
    "\n",
    "        self.project = nn.Conv2d(in_channels=in_dim, out_channels=latent_dim, kernel_size=image_size, stride=image_size)\n",
    "        self.cls_token = nn.Parameter(torch.zeros((1,1,latent_dim))) # for concat, one as single patch, latent_dim\n",
    "        self.pos_embed = nn.Parameter(torch.rand((num_patch + 1, latent_dim))) # for [CLS](+)Patches = 1 + num_path\n",
    "\n",
    "    def forward(self, img:torch.Tensor):\n",
    "        # Projection -> Flatten -> add [CLS] token -> Position\n",
    "        # used in TNT (TokenS-To-TokenS) and CaiT (Cross-Attention Interaction Transformer)\n",
    "\n",
    "        patches = self.project(img) # (B, C, W, H) -> (B, D, P, P) \n",
    "        patches = patches.flatten(2).transpose(1, 2) # (B, num_patch, D)\n",
    "\n",
    "        patches = torch.concat([self.cls_token, patches], dim=1) # (B, num_patch + 1, D)\n",
    "        patches = patches + self.pos_embed # (B, num_patch + 1, D) + (num_path + 1, D)...BOARDCAST\n",
    "\n",
    "        return patches"
   ]
  },
  {
   "cell_type": "code",
   "execution_count": 4,
   "metadata": {},
   "outputs": [],
   "source": [
    "class PatchEmbedding_ViT(nn.Module):\n",
    "    def __init__(self, image_size, num_patch, in_dim, latent_dim) -> None:\n",
    "        super(PatchEmbedding_ViT, self).__init__()\n",
    "\n",
    "        patch_size = image_size // int(num_patch**0.5) # P*P = H*W / N\n",
    "\n",
    "        self.project = nn.Linear(in_features= patch_size*patch_size*in_dim, out_features=latent_dim)\n",
    "        self.cls_token = nn.Parameter(torch.zeros(1,1,latent_dim))\n",
    "        self.pos_embed = nn.Parameter(torch.zeros(num_patch + 1, latent_dim))\n",
    "\n",
    "    def forward(self, img):\n",
    "        # Flatten -> Projection -> Add [CLS] token -> Position\n",
    "        B, _,_,_ = img.shape\n",
    "\n",
    "        patches = img.reshape(B, self.num_patch, -1) # (B, C, W, H) -> (B, N, P*P*C ) -- P*P = H*W/N \n",
    "        patches = self.project(patches) # (B, N, P*P*C) -> (B, N, D)\n",
    "        patches = torch.concat([self.cls_token, patches])\n",
    "        patches = patches + self.pos_embed\n",
    "\n",
    "        return patches"
   ]
  },
  {
   "cell_type": "code",
   "execution_count": 5,
   "metadata": {},
   "outputs": [],
   "source": [
    "class Transformer_block(nn.Module):\n",
    "    def __init__(self, latent_dim, num_heads) -> None:\n",
    "        super(Transformer_block).__init__()\n",
    "\n",
    "        self.self_attn = nn.Sequential(\n",
    "            nn.LayerNorm(latent_dim),\n",
    "            nn.MultiheadAttention(embed_dim=latent_dim, num_heads=num_heads)\n",
    "        )\n",
    "\n",
    "        self.ff = nn.Sequential(\n",
    "            nn.LayerNorm(latent_dim),\n",
    "            nn.Linear(in_features=latent_dim, out_features=latent_dim),\n",
    "            nn.GELU(),\n",
    "            nn.Linear(in_features=latent_dim, out_features=latent_dim),\n",
    "        )\n",
    "\n",
    "    def forward(self, patches):\n",
    "\n",
    "        residual = patches\n",
    "        patches = self.self_attn(patches)\n",
    "        patches = patches + residual\n",
    "\n",
    "        residual = patches\n",
    "        patches = self.ff(patches)\n",
    "        patches = patches + residual\n",
    "\n",
    "        return patches"
   ]
  },
  {
   "cell_type": "code",
   "execution_count": null,
   "metadata": {},
   "outputs": [],
   "source": [
    "class ViT(nn.Module):\n",
    "    def __init__(self, img_size, num_patch, input_channel, num_classes, d_model, num_layers, num_heads, is_pretrain=True) -> None:\n",
    "        super(ViT, self).__init__()\n",
    "        self.is_pretrain = is_pretrain\n",
    "\n",
    "        self.patch_emb = PatchEmbedding(image_size=img_size, num_patch=num_patch, in_dim=input_channel, latent_dim=d_model)\n",
    "        self.transformer_encoder = nn.Sequential(\n",
    "            *[Transformer_block(latent_dim=d_model, num_heads=num_heads) for _ in range(num_layers)]\n",
    "        )\n",
    "        \n",
    "        if self.is_pretrain:\n",
    "            self.pretrain_mlp = nn.Sequential(\n",
    "                nn.LayerNorm(d_model),\n",
    "                nn.Linear(in_features=d_model, out_features=d_model),\n",
    "                nn.GELU(),\n",
    "                nn.Linear(in_features=d_model, out_features=num_classes)\n",
    "            )\n",
    "        else:\n",
    "            self.fc = nn.Linear(in_features=d_model, out_features=num_classes)\n",
    "\n",
    "    def forward(self, img):\n",
    "\n",
    "        patches = self.patch_emb(img)\n",
    "        patches = self.transformer_encoder(patches)\n",
    "        patches = patches[0] # extract class embedding\n",
    "\n",
    "        if self.is_pretrain:\n",
    "            return self.pretrain_mlp(patches)\n",
    "        else:\n",
    "            return self.fc(patches)"
   ]
  }
 ],
 "metadata": {
  "kernelspec": {
   "display_name": "Vision",
   "language": "python",
   "name": "python3"
  },
  "language_info": {
   "codemirror_mode": {
    "name": "ipython",
    "version": 3
   },
   "file_extension": ".py",
   "mimetype": "text/x-python",
   "name": "python",
   "nbconvert_exporter": "python",
   "pygments_lexer": "ipython3",
   "version": "3.10.9"
  },
  "orig_nbformat": 4
 },
 "nbformat": 4,
 "nbformat_minor": 2
}
