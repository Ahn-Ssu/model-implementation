{
 "cells": [
  {
   "cell_type": "code",
   "execution_count": null,
   "metadata": {},
   "outputs": [],
   "source": [
    "MAX_LEN = _\n",
    "class MaskedMultiheadAttention(nn.Module):\n",
    "    def __init__(self, mask=False):\n",
    "        super(MaskedMultiheadAttention, self).__init__()\n",
    "        assert args.nhid_tran % args.nhead == 0\n",
    "        self.key = nn.Linear(args.nhid_tran, args.nhid_tran)\n",
    "        self.query = nn.Linear(args.nhid_tran, args.nhid_tran)\n",
    "        self.value = nn.Linear(args.nhid_tran, args.nhid_tran)\n",
    "        # regularization\n",
    "        self.attn_drop = nn.Dropout(args.attn_pdrop)\n",
    "        # output projection\n",
    "        self.proj = nn.Linear(args.nhid_tran, args.nhid_tran)\n",
    "        # causal mask to ensure that attention is only applied to the left in the input sequence\n",
    "        if mask:\n",
    "            self.register_buffer(\"mask\", torch.tril(torch.ones(MAX_LEN, MAX_LEN)))\n",
    "        self.nhead = args.nhead\n",
    "        self.d_k = args.nhid_tran // args.nhead\n",
    "\n",
    "    def forward(self, q, k, v, mask=None):\n",
    "        q = self.query(q).reshape(q.shape[0], q.shape[1], self.nhead, -1).contiguous().transpose(1,2).contiguous()\n",
    "        k = self.key(k).reshape(k.shape[0], k.shape[1], self.nhead, -1).contiguous().transpose(1,2).contiguous()\n",
    "        v = self.value(v).reshape(v.shape[0], v.shape[1], self.nhead, -1).contiguous().transpose(1,2).contiguous()\n",
    "        \n",
    "        similiarity = torch.matmul(q, k.transpose(-1,-2)) / self.d_k ** 0.5\n",
    "\n",
    "        \n",
    "        # if hasattr(self, 'mask'): \n",
    "        if mask is None:\n",
    "          # similiarity.shape = (B, nhead, T_q, T); \n",
    "          # self.mask.shape = (T_q, T) --> (1, 1, T_q, T)\n",
    "          mask = self.mask[:similiarity.shape[-2], :similiarity.shape[-1]].unsqueeze(dim=0).unsqueeze(dim=0)\n",
    "          mask = mask.repeat(similiarity.shape[0], 1, 1, 1)\n",
    "        else:\n",
    "          # similiarity.shape = (B, nhead, T_q, T)\n",
    "          # mask shape = (B,T)  --> (B, 1, 1, T)\n",
    "          mask = mask.unsqueeze(dim=1).unsqueeze(dim=1)\n",
    "          mask = mask.repeat(1, 1, similiarity.shape[2], 1)\n",
    "        \n",
    "        similiarity = similiarity.masked_fill(mask==0, -np.inf)\n",
    "        scaled = self.attn_drop(torch.softmax(similiarity, dim=-1))\n",
    "        attn_out = torch.matmul(scaled, v).transpose(1,2)\n",
    "        attn_out = attn_out.contiguous().reshape(attn_out.shape[0], attn_out.shape[1], -1)\n",
    "        output = self.proj(attn_out)\n",
    "\n",
    "        return output\n"
   ]
  }
 ],
 "metadata": {
  "language_info": {
   "name": "python"
  },
  "orig_nbformat": 4
 },
 "nbformat": 4,
 "nbformat_minor": 2
}
